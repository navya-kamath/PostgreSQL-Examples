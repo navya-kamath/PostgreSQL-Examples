{
 "cells": [
  {
   "cell_type": "code",
   "execution_count": 5,
   "id": "edb3b296-956c-4161-a076-665a647881e7",
   "metadata": {},
   "outputs": [
    {
     "name": "stderr",
     "output_type": "stream",
     "text": [
      "WARNING: Package(s) not found: psycopg2\n"
     ]
    }
   ],
   "source": [
    "!pip show psycopg2"
   ]
  },
  {
   "cell_type": "code",
   "execution_count": 7,
   "id": "a2a6b3f5-b884-43b9-95a5-1fbc4ac74bf7",
   "metadata": {},
   "outputs": [
    {
     "name": "stdout",
     "output_type": "stream",
     "text": [
      "Collecting psycopg2-binary\n",
      "  Downloading psycopg2_binary-2.9.10-cp312-cp312-win_amd64.whl.metadata (5.0 kB)\n",
      "Downloading psycopg2_binary-2.9.10-cp312-cp312-win_amd64.whl (1.2 MB)\n",
      "   ---------------------------------------- 0.0/1.2 MB ? eta -:--:--\n",
      "   ---------------------------------------- 0.0/1.2 MB ? eta -:--:--\n",
      "   ---------------------------------------- 0.0/1.2 MB ? eta -:--:--\n",
      "   ---------------------------------------- 0.0/1.2 MB ? eta -:--:--\n",
      "   ---------------------------------------- 0.0/1.2 MB ? eta -:--:--\n",
      "   - -------------------------------------- 0.0/1.2 MB 108.9 kB/s eta 0:00:11\n",
      "   - -------------------------------------- 0.0/1.2 MB 108.9 kB/s eta 0:00:11\n",
      "   - -------------------------------------- 0.0/1.2 MB 122.9 kB/s eta 0:00:10\n",
      "   --- ------------------------------------ 0.1/1.2 MB 238.1 kB/s eta 0:00:05\n",
      "   --- ------------------------------------ 0.1/1.2 MB 238.1 kB/s eta 0:00:05\n",
      "   --- ------------------------------------ 0.1/1.2 MB 252.2 kB/s eta 0:00:05\n",
      "   --- ------------------------------------ 0.1/1.2 MB 252.2 kB/s eta 0:00:05\n",
      "   ---- ----------------------------------- 0.1/1.2 MB 212.1 kB/s eta 0:00:05\n",
      "   ---- ----------------------------------- 0.1/1.2 MB 243.4 kB/s eta 0:00:05\n",
      "   ----- ---------------------------------- 0.2/1.2 MB 269.0 kB/s eta 0:00:04\n",
      "   ----- ---------------------------------- 0.2/1.2 MB 269.0 kB/s eta 0:00:04\n",
      "   ------ --------------------------------- 0.2/1.2 MB 262.2 kB/s eta 0:00:04\n",
      "   ------ --------------------------------- 0.2/1.2 MB 262.2 kB/s eta 0:00:04\n",
      "   ------- -------------------------------- 0.2/1.2 MB 269.8 kB/s eta 0:00:04\n",
      "   -------- ------------------------------- 0.3/1.2 MB 286.1 kB/s eta 0:00:04\n",
      "   --------- ------------------------------ 0.3/1.2 MB 298.8 kB/s eta 0:00:03\n",
      "   ---------- ----------------------------- 0.3/1.2 MB 311.6 kB/s eta 0:00:03\n",
      "   ----------- ---------------------------- 0.3/1.2 MB 333.0 kB/s eta 0:00:03\n",
      "   ------------ --------------------------- 0.4/1.2 MB 352.8 kB/s eta 0:00:03\n",
      "   -------------- ------------------------- 0.4/1.2 MB 365.0 kB/s eta 0:00:03\n",
      "   -------------- ------------------------- 0.4/1.2 MB 364.1 kB/s eta 0:00:03\n",
      "   ---------------- ----------------------- 0.5/1.2 MB 387.9 kB/s eta 0:00:02\n",
      "   ------------------ --------------------- 0.5/1.2 MB 428.4 kB/s eta 0:00:02\n",
      "   ------------------ --------------------- 0.5/1.2 MB 428.4 kB/s eta 0:00:02\n",
      "   ------------------ --------------------- 0.5/1.2 MB 428.4 kB/s eta 0:00:02\n",
      "   ------------------ --------------------- 0.5/1.2 MB 428.4 kB/s eta 0:00:02\n",
      "   ------------------ --------------------- 0.5/1.2 MB 428.4 kB/s eta 0:00:02\n",
      "   ------------------ --------------------- 0.5/1.2 MB 428.4 kB/s eta 0:00:02\n",
      "   ------------------ --------------------- 0.5/1.2 MB 428.4 kB/s eta 0:00:02\n",
      "   ------------------- -------------------- 0.6/1.2 MB 347.2 kB/s eta 0:00:02\n",
      "   ------------------- -------------------- 0.6/1.2 MB 356.9 kB/s eta 0:00:02\n",
      "   -------------------- ------------------- 0.6/1.2 MB 361.9 kB/s eta 0:00:02\n",
      "   -------------------- ------------------- 0.6/1.2 MB 361.9 kB/s eta 0:00:02\n",
      "   -------------------- ------------------- 0.6/1.2 MB 361.9 kB/s eta 0:00:02\n",
      "   -------------------- ------------------- 0.6/1.2 MB 361.9 kB/s eta 0:00:02\n",
      "   -------------------- ------------------- 0.6/1.2 MB 361.9 kB/s eta 0:00:02\n",
      "   -------------------- ------------------- 0.6/1.2 MB 361.9 kB/s eta 0:00:02\n",
      "   ---------------------- ----------------- 0.6/1.2 MB 325.1 kB/s eta 0:00:02\n",
      "   ---------------------- ----------------- 0.7/1.2 MB 332.8 kB/s eta 0:00:02\n",
      "   ----------------------- ---------------- 0.7/1.2 MB 337.9 kB/s eta 0:00:02\n",
      "   ------------------------ --------------- 0.7/1.2 MB 340.0 kB/s eta 0:00:02\n",
      "   ------------------------- -------------- 0.7/1.2 MB 344.4 kB/s eta 0:00:02\n",
      "   ---------------------------- ----------- 0.8/1.2 MB 372.4 kB/s eta 0:00:01\n",
      "   ----------------------------- ---------- 0.9/1.2 MB 383.0 kB/s eta 0:00:01\n",
      "   ------------------------------ --------- 0.9/1.2 MB 389.6 kB/s eta 0:00:01\n",
      "   --------------------------------- ------ 1.0/1.2 MB 423.5 kB/s eta 0:00:01\n",
      "   ---------------------------------- ----- 1.0/1.2 MB 431.1 kB/s eta 0:00:01\n",
      "   ----------------------------------- ---- 1.0/1.2 MB 435.5 kB/s eta 0:00:01\n",
      "   -------------------------------------- - 1.1/1.2 MB 446.7 kB/s eta 0:00:01\n",
      "   -------------------------------------- - 1.1/1.2 MB 446.7 kB/s eta 0:00:01\n",
      "   ---------------------------------------  1.1/1.2 MB 446.3 kB/s eta 0:00:01\n",
      "   ---------------------------------------- 1.2/1.2 MB 444.8 kB/s eta 0:00:00\n",
      "Installing collected packages: psycopg2-binary\n",
      "Successfully installed psycopg2-binary-2.9.10\n"
     ]
    }
   ],
   "source": [
    "!pip install psycopg2-binary"
   ]
  },
  {
   "cell_type": "code",
   "execution_count": 9,
   "id": "2fa56892-b3f2-4a80-8a07-4aae50a0560c",
   "metadata": {},
   "outputs": [
    {
     "name": "stdout",
     "output_type": "stream",
     "text": [
      "psycopg2 imported successfully!\n"
     ]
    }
   ],
   "source": [
    "import psycopg2\n",
    "print(\"psycopg2 imported successfully!\")"
   ]
  },
  {
   "cell_type": "code",
   "execution_count": 37,
   "id": "91b361b1-445c-4005-9782-27a2237d2fbd",
   "metadata": {},
   "outputs": [],
   "source": [
    "import psycopg2 as pg2"
   ]
  },
  {
   "cell_type": "code",
   "execution_count": 1,
   "id": "9d74951b-a33b-40dd-af42-4c78dddea236",
   "metadata": {},
   "outputs": [],
   "source": [
    "#secret = 'entered_my_password'"
   ]
  },
  {
   "cell_type": "code",
   "execution_count": 41,
   "id": "2dbe6bda-29fe-41b9-a7c6-279ad6ff26df",
   "metadata": {},
   "outputs": [],
   "source": [
    "conn = pg2.connect(database='dvdrental', user='postgres',password=secret)"
   ]
  },
  {
   "cell_type": "code",
   "execution_count": 43,
   "id": "49a51228-7bfe-4d64-ab4a-b357692d8081",
   "metadata": {},
   "outputs": [],
   "source": [
    "cur = conn.cursor()"
   ]
  },
  {
   "cell_type": "code",
   "execution_count": 45,
   "id": "882065ed-b6ca-4a6e-a37a-76261ca38d07",
   "metadata": {},
   "outputs": [],
   "source": [
    "cur.execute('SELECT * FROM payment') #Avoid adding string with + or so right query as a single line."
   ]
  },
  {
   "cell_type": "code",
   "execution_count": 47,
   "id": "75c02437-4117-4d34-a4f0-724dd10dce9c",
   "metadata": {},
   "outputs": [
    {
     "data": {
      "text/plain": [
       "(17503,\n",
       " 341,\n",
       " 2,\n",
       " 1520,\n",
       " Decimal('7.99'),\n",
       " datetime.datetime(2007, 2, 15, 22, 25, 46, 996577))"
      ]
     },
     "execution_count": 47,
     "metadata": {},
     "output_type": "execute_result"
    }
   ],
   "source": [
    "cur.fetchone()"
   ]
  },
  {
   "cell_type": "code",
   "execution_count": 49,
   "id": "c7e3482f-fe35-4ebd-b1ec-704c645f4bfa",
   "metadata": {},
   "outputs": [],
   "source": [
    "data = cur.fetchmany(3) #Execute query again to execute this "
   ]
  },
  {
   "cell_type": "code",
   "execution_count": 51,
   "id": "a0b433fa-f4d8-429c-9cac-c9429fc80250",
   "metadata": {},
   "outputs": [
    {
     "data": {
      "text/plain": [
       "Decimal('1.99')"
      ]
     },
     "execution_count": 51,
     "metadata": {},
     "output_type": "execute_result"
    }
   ],
   "source": [
    "data[0][4]"
   ]
  },
  {
   "cell_type": "code",
   "execution_count": 53,
   "id": "7960dd2b-ab74-403c-a916-9891874affdb",
   "metadata": {},
   "outputs": [],
   "source": [
    "#Inserting information\n",
    "query1 = '''\n",
    "        CREATE TABLE new_table (\n",
    "            userid integer\n",
    "            , tmstmp timestamp\n",
    "            , type varchar(10)\n",
    "        );\n",
    "        '''"
   ]
  },
  {
   "cell_type": "raw",
   "id": "fc4adfce-1e4d-42d1-ba87-7e27875c4d2f",
   "metadata": {},
   "source": [
    "cur.execute(query1)"
   ]
  },
  {
   "cell_type": "code",
   "execution_count": 33,
   "id": "128fb7ea-912e-4326-980f-c009036199d3",
   "metadata": {},
   "outputs": [],
   "source": [
    "#Commit the changes to the database\n",
    "conn.commit()"
   ]
  },
  {
   "cell_type": "code",
   "execution_count": 35,
   "id": "9540492e-9cc3-4fcb-9133-6d7bb7a6e585",
   "metadata": {},
   "outputs": [],
   "source": [
    "conn.close()"
   ]
  }
 ],
 "metadata": {
  "kernelspec": {
   "display_name": "Python 3 (ipykernel)",
   "language": "python",
   "name": "python3"
  },
  "language_info": {
   "codemirror_mode": {
    "name": "ipython",
    "version": 3
   },
   "file_extension": ".py",
   "mimetype": "text/x-python",
   "name": "python",
   "nbconvert_exporter": "python",
   "pygments_lexer": "ipython3",
   "version": "3.12.4"
  }
 },
 "nbformat": 4,
 "nbformat_minor": 5
}
